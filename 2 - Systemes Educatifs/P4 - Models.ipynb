{
 "cells": [
  {
   "cell_type": "code",
   "execution_count": 1,
   "metadata": {},
   "outputs": [],
   "source": [
    "import numpy as np\n",
    "import pandas as pd\n",
    "import seaborn as sns\n",
    "import matplotlib.pyplot as plt\n",
    "from sklearn import linear_model\n",
    "from sklearn.linear_model import LinearRegression\n",
    "from sklearn.ensemble import RandomForestRegressor\n",
    "from sklearn.cluster import KMeans\n",
    "from sklearn.model_selection import train_test_split\n",
    "from sklearn import neighbors\n",
    "import missingno as msno\n",
    "pd.options.mode.chained_assignment = None\n",
    "from sklearn.preprocessing import StandardScaler\n",
    "from yellowbrick.cluster import KElbowVisualizer\n",
    "import warnings\n",
    "warnings.filterwarnings(\"ignore\")"
   ]
  },
  {
   "cell_type": "code",
   "execution_count": 2,
   "metadata": {},
   "outputs": [],
   "source": [
    "import sklearn\n",
    "from sklearn.preprocessing import OneHotEncoder, StandardScaler\n",
    "from sklearn.impute import SimpleImputer\n",
    "from sklearn.metrics import mean_absolute_error, mean_squared_error, r2_score\n",
    "from sklearn.model_selection import train_test_split\n",
    "from yellowbrick.regressor import ResidualsPlot, prediction_error"
   ]
  },
  {
   "cell_type": "code",
   "execution_count": 3,
   "metadata": {},
   "outputs": [],
   "source": [
    "data = pd.read_csv('data_cleaned.csv')"
   ]
  },
  {
   "cell_type": "code",
   "execution_count": 4,
   "metadata": {},
   "outputs": [
    {
     "data": {
      "text/plain": [
       "Index(['Unnamed: 0', 'index', 'OSEBuildingID', 'DataYear', 'BuildingType',\n",
       "       'PrimaryPropertyType', 'Neighborhood', 'YearBuilt', 'NumberofBuildings',\n",
       "       'NumberofFloors', 'PropertyGFATotal', 'PropertyGFAParking',\n",
       "       'PropertyGFABuilding(s)', 'SecondLargestPropertyUseType',\n",
       "       'SecondLargestPropertyUseTypeGFA', 'ENERGYSTARScore',\n",
       "       'SourceEUIWN(kBtu/sf)', 'SiteEnergyUse(kBtu)', 'SteamUse(kBtu)',\n",
       "       'Electricity(kBtu)', 'NaturalGas(kBtu)', 'OtherFuelUse(kBtu)',\n",
       "       'TotalGHGEmissions', 'GHGEmissionsIntensity', 'Latitude', 'Longitude',\n",
       "       'Address', 'City', 'Age', 'HasParking', 'Clusters'],\n",
       "      dtype='object')"
      ]
     },
     "execution_count": 4,
     "metadata": {},
     "output_type": "execute_result"
    }
   ],
   "source": [
    "data.columns"
   ]
  },
  {
   "cell_type": "code",
   "execution_count": 5,
   "metadata": {},
   "outputs": [],
   "source": [
    "#Séparation des variables en variables catégorielles et numériques\n",
    "\n",
    "cat_var = [\"PrimaryPropertyType\", \"SecondLargestPropertyUseType\",\"Clusters\", 'HasParking']\n",
    "\n",
    "num_var = [\"Age\",\"PropertyGFATotal\", \"SecondLargestPropertyUseTypeGFA\",\"NumberofFloors\", \"NumberofBuildings\"]\n"
   ]
  },
  {
   "cell_type": "code",
   "execution_count": 6,
   "metadata": {},
   "outputs": [],
   "source": [
    "#Nous avons remarqué que les variables cibles ne suivent pas une distribution adaptée, nous les passons donc en log\n",
    "\n",
    "data[\"SiteEnergyUse(kBtu)_log\"] = np.log(data[\"SiteEnergyUse(kBtu)\"])\n",
    "data[\"TotalGHGEmissions_log\"] = np.log(data[\"TotalGHGEmissions\"])"
   ]
  },
  {
   "cell_type": "code",
   "execution_count": 7,
   "metadata": {},
   "outputs": [],
   "source": [
    "train_set, test_set = train_test_split(\n",
    "    data, test_size=0.2, random_state=42, stratify=data[\"PrimaryPropertyType\"])\n",
    "\n",
    "y_train = train_set[[\"SiteEnergyUse(kBtu)_log\"]]\n",
    "y_test = test_set[[\"SiteEnergyUse(kBtu)_log\"]]\n",
    "X_train = train_set.drop([\"SiteEnergyUse(kBtu)\", \"SiteEnergyUse(kBtu)_log\", \"TotalGHGEmissions\",\n",
    "                          \"TotalGHGEmissions_log\", \"ENERGYSTARScore\", \"YearBuilt\", \"Neighborhood\", \"Latitude\", \"Longitude\"], axis=1)\n",
    "X_test = test_set.drop([\"SiteEnergyUse(kBtu)\", \"SiteEnergyUse(kBtu)_log\", \"TotalGHGEmissions\",\n",
    "                        \"TotalGHGEmissions_log\", \"ENERGYSTARScore\", \"YearBuilt\", \"Neighborhood\", \"Latitude\", \"Longitude\"], axis=1)"
   ]
  },
  {
   "cell_type": "code",
   "execution_count": 8,
   "metadata": {},
   "outputs": [],
   "source": [
    "from sklearn.impute import SimpleImputer\n",
    "from sklearn.compose import ColumnTransformer\n",
    "from sklearn.pipeline import Pipeline"
   ]
  },
  {
   "cell_type": "code",
   "execution_count": 9,
   "metadata": {},
   "outputs": [],
   "source": [
    "cat_pipe = Pipeline([\n",
    "    ('imputer', SimpleImputer(strategy='most_frequent', fill_value='missing')),\n",
    "    ('encoder', OneHotEncoder(handle_unknown='ignore', sparse=False))\n",
    "])\n",
    "\n",
    "num_pipe = Pipeline([\n",
    "    ('imputer', SimpleImputer(strategy=\"median\", fill_value=\"missing\")),\n",
    "    ('scaler', StandardScaler())\n",
    "])\n",
    "\n",
    "preprocessor = ColumnTransformer(\n",
    "    transformers=[\n",
    "    ('cat', cat_pipe, cat_var),\n",
    "    ('num', num_pipe, num_var)\n",
    "])"
   ]
  },
  {
   "cell_type": "code",
   "execution_count": 10,
   "metadata": {},
   "outputs": [],
   "source": [
    "X_train = preprocessor.fit_transform(X_train)"
   ]
  },
  {
   "cell_type": "code",
   "execution_count": 11,
   "metadata": {},
   "outputs": [],
   "source": [
    "mean_absolute_percentage_error = lambda y1, y2 : np.mean(np.abs(y1-y2)/(np.maximum(np.abs(y1), np.abs(y2)))*100)"
   ]
  },
  {
   "cell_type": "code",
   "execution_count": 12,
   "metadata": {},
   "outputs": [],
   "source": [
    "def rmpse(y_true, y_pred):\n",
    "    '''\n",
    "    Compute Root Mean Square Percentage Error between two arrays.\n",
    "    '''\n",
    "    loss = np.sqrt(np.mean(np.square(((y_true - y_pred) / y_true))))\n",
    "\n",
    "    return loss"
   ]
  },
  {
   "cell_type": "code",
   "execution_count": 13,
   "metadata": {},
   "outputs": [],
   "source": [
    "def regression_metrics(y_test, y_pred):\n",
    "    \"\"\"Function which contains differents metrics about regression\n",
    "    Input: y_test, prediction\n",
    "    \n",
    "    Output: MAE, MSE, RMSE, MAPE & R² score  \n",
    "    \"\"\"\n",
    "    mae = mean_absolute_error(y_test, y_pred)\n",
    "    mse = mean_squared_error(y_test, y_pred)\n",
    "    rmse = np.sqrt(mse)\n",
    "    rmpse_cal = rmpse(y_test, y_pred)\n",
    "    mape = mean_absolute_percentage_error(y_test, y_pred)\n",
    "    r_score = r2_score(y_test, y_pred, multioutput=\"variance_weighted\")\n",
    "    print(\"MAE: \",mae.round(5))\n",
    "    print(\"MSE: \", mse.round(5))\n",
    "    print(\"RMSE: \", rmse)\n",
    "    print(\"RMPSE: \", rmpse_cal.round(3))\n",
    "    print(\"MAPE: \", mape.round(5))\n",
    "    print(\"R²: \", r_score.round(5))"
   ]
  },
  {
   "cell_type": "code",
   "execution_count": 14,
   "metadata": {},
   "outputs": [
    {
     "data": {
      "text/plain": [
       "DummyRegressor(strategy='median')"
      ]
     },
     "execution_count": 14,
     "metadata": {},
     "output_type": "execute_result"
    }
   ],
   "source": [
    "from sklearn.dummy import DummyRegressor\n",
    "\n",
    "dummy_reg = DummyRegressor(strategy=\"median\")\n",
    "dummy_reg.fit(X_train, y_train)"
   ]
  },
  {
   "cell_type": "code",
   "execution_count": 15,
   "metadata": {},
   "outputs": [
    {
     "name": "stdout",
     "output_type": "stream",
     "text": [
      "MAE:  0.89516\n",
      "MSE:  1.38428\n",
      "RMSE:  1.176554873631537\n",
      "RMPSE:  0.077\n",
      "MAPE:  5.79613\n",
      "R²:  -0.0233\n"
     ]
    }
   ],
   "source": [
    "X_test = preprocessor.transform(X_test)\n",
    "y_pred = dummy_reg.predict(X_test)\n",
    "regression_metrics(np.array(y_test), y_pred)"
   ]
  },
  {
   "cell_type": "code",
   "execution_count": 16,
   "metadata": {},
   "outputs": [],
   "source": [
    "from sklearn.linear_model import Ridge, Lasso, LinearRegression\n",
    "from sklearn.tree import DecisionTreeRegressor\n",
    "from sklearn.svm import SVR\n",
    "from sklearn.kernel_ridge import KernelRidge\n",
    "from sklearn.ensemble import AdaBoostRegressor, BaggingRegressor, GradientBoostingRegressor, RandomForestRegressor\n",
    "import xgboost as xgb"
   ]
  },
  {
   "cell_type": "code",
   "execution_count": 17,
   "metadata": {},
   "outputs": [],
   "source": [
    "dummy_reg = DummyRegressor(strategy=\"median\")\n",
    "lin_reg = LinearRegression()\n",
    "ridge = Ridge(random_state=42)\n",
    "lasso = Lasso(random_state=42)\n",
    "dt_reg =  DecisionTreeRegressor(random_state=42)\n",
    "svm_reg = SVR()\n",
    "ridge_kernel = KernelRidge()\n",
    "adaboost = AdaBoostRegressor(random_state=42)\n",
    "bagging = BaggingRegressor(random_state=42)\n",
    "rdmforest = RandomForestRegressor(random_state=42)"
   ]
  },
  {
   "cell_type": "code",
   "execution_count": 18,
   "metadata": {},
   "outputs": [
    {
     "data": {
      "text/html": [
       "<div>\n",
       "<style scoped>\n",
       "    .dataframe tbody tr th:only-of-type {\n",
       "        vertical-align: middle;\n",
       "    }\n",
       "\n",
       "    .dataframe tbody tr th {\n",
       "        vertical-align: top;\n",
       "    }\n",
       "\n",
       "    .dataframe thead th {\n",
       "        text-align: right;\n",
       "    }\n",
       "</style>\n",
       "<table border=\"1\" class=\"dataframe\">\n",
       "  <thead>\n",
       "    <tr style=\"text-align: right;\">\n",
       "      <th></th>\n",
       "      <th>Dummy Regressor</th>\n",
       "      <th>Linear Regression</th>\n",
       "      <th>Ridge</th>\n",
       "      <th>Lasso</th>\n",
       "      <th>DecisionTree</th>\n",
       "      <th>SVM</th>\n",
       "      <th>Ridge Kernel</th>\n",
       "      <th>AdaBoost</th>\n",
       "      <th>Bagging</th>\n",
       "      <th>Random Forest</th>\n",
       "    </tr>\n",
       "  </thead>\n",
       "  <tbody>\n",
       "    <tr>\n",
       "      <th>MAE</th>\n",
       "      <td>0.895</td>\n",
       "      <td>1.003385e+08</td>\n",
       "      <td>0.606</td>\n",
       "      <td>0.907</td>\n",
       "      <td>0.590</td>\n",
       "      <td>0.446</td>\n",
       "      <td>0.609</td>\n",
       "      <td>0.541</td>\n",
       "      <td>0.450</td>\n",
       "      <td>0.433</td>\n",
       "    </tr>\n",
       "    <tr>\n",
       "      <th>MSE</th>\n",
       "      <td>1.384</td>\n",
       "      <td>2.248481e+18</td>\n",
       "      <td>0.667</td>\n",
       "      <td>1.353</td>\n",
       "      <td>0.703</td>\n",
       "      <td>0.429</td>\n",
       "      <td>0.675</td>\n",
       "      <td>0.516</td>\n",
       "      <td>0.417</td>\n",
       "      <td>0.407</td>\n",
       "    </tr>\n",
       "    <tr>\n",
       "      <th>RMSE</th>\n",
       "      <td>1.177</td>\n",
       "      <td>1.499493e+09</td>\n",
       "      <td>0.817</td>\n",
       "      <td>1.163</td>\n",
       "      <td>0.839</td>\n",
       "      <td>0.655</td>\n",
       "      <td>0.821</td>\n",
       "      <td>0.718</td>\n",
       "      <td>0.646</td>\n",
       "      <td>0.638</td>\n",
       "    </tr>\n",
       "    <tr>\n",
       "      <th>R²</th>\n",
       "      <td>-0.023</td>\n",
       "      <td>-1.662141e+18</td>\n",
       "      <td>0.507</td>\n",
       "      <td>-0.000</td>\n",
       "      <td>0.480</td>\n",
       "      <td>0.683</td>\n",
       "      <td>0.501</td>\n",
       "      <td>0.619</td>\n",
       "      <td>0.692</td>\n",
       "      <td>0.699</td>\n",
       "    </tr>\n",
       "  </tbody>\n",
       "</table>\n",
       "</div>"
      ],
      "text/plain": [
       "      Dummy Regressor  Linear Regression  Ridge  Lasso  DecisionTree    SVM  \\\n",
       "MAE             0.895       1.003385e+08  0.606  0.907         0.590  0.446   \n",
       "MSE             1.384       2.248481e+18  0.667  1.353         0.703  0.429   \n",
       "RMSE            1.177       1.499493e+09  0.817  1.163         0.839  0.655   \n",
       "R²             -0.023      -1.662141e+18  0.507 -0.000         0.480  0.683   \n",
       "\n",
       "      Ridge Kernel  AdaBoost  Bagging  Random Forest  \n",
       "MAE          0.609     0.541    0.450          0.433  \n",
       "MSE          0.675     0.516    0.417          0.407  \n",
       "RMSE         0.821     0.718    0.646          0.638  \n",
       "R²           0.501     0.619    0.692          0.699  "
      ]
     },
     "execution_count": 18,
     "metadata": {},
     "output_type": "execute_result"
    }
   ],
   "source": [
    "model_list = [dummy_reg, lin_reg, ridge, lasso, dt_reg, svm_reg, ridge_kernel, adaboost, bagging, rdmforest]\n",
    "dict_model = {}\n",
    "\n",
    "for model in model_list:\n",
    "    model.fit(X_train, y_train)\n",
    "    y_pred = model.predict(X_test)\n",
    "    mae = mean_absolute_error(y_test, y_pred)\n",
    "    mse = mean_squared_error(y_test, y_pred)\n",
    "    rmse = np.sqrt(mse)\n",
    "    r_score = r2_score(y_test, y_pred, multioutput=\"variance_weighted\").round(3)\n",
    "    dict_model[model] = (mae.round(3), mse.round(3), rmse.round(3), r_score)\n",
    "\n",
    "eval_model = pd.DataFrame(dict_model, index=[\"MAE\", \"MSE\", \"RMSE\", \"R²\"])\n",
    "eval_model.columns = [\"Dummy Regressor\", \"Linear Regression\", \"Ridge\", \"Lasso\", \"DecisionTree\", \"SVM\", \"Ridge Kernel\",\n",
    "                      \"AdaBoost\", \"Bagging\",  \"Random Forest\"]\n",
    "\n",
    "eval_model"
   ]
  },
  {
   "cell_type": "code",
   "execution_count": 19,
   "metadata": {},
   "outputs": [
    {
     "name": "stdout",
     "output_type": "stream",
     "text": [
      "[1340 1341 1342 ... 2677 2678 2679] [   0    1    2 ... 1337 1338 1339]\n",
      "[   0    1    2 ... 1337 1338 1339] [1340 1341 1342 ... 2677 2678 2679]\n",
      "Cross Validation Scores are [-0.01386153 -0.03225916]\n",
      "Average Cross Validation score :-0.023060342349456087\n",
      "DummyRegressor(strategy='median')\n",
      "Cross Validation Scores are [-9.82048962e+20 -4.85518933e+21]\n",
      "Average Cross Validation score :-2.918619146252745e+21\n",
      "LinearRegression()\n",
      "Cross Validation Scores are [ 0.5598886 -0.3211668]\n",
      "Average Cross Validation score :0.1193609000939308\n",
      "Ridge(random_state=42)\n",
      "Cross Validation Scores are [-0.00048729 -0.00046491]\n",
      "Average Cross Validation score :-0.0004761029110730286\n",
      "Lasso(random_state=42)\n",
      "Cross Validation Scores are [0.44914189 0.5016684 ]\n",
      "Average Cross Validation score :0.4754051462298505\n",
      "DecisionTreeRegressor(random_state=42)\n",
      "Cross Validation Scores are [0.70843538 0.68059916]\n",
      "Average Cross Validation score :0.694517271990735\n",
      "SVR()\n",
      "Cross Validation Scores are [ 0.54751089 -0.37800139]\n",
      "Average Cross Validation score :0.08475475141962474\n",
      "KernelRidge()\n",
      "Cross Validation Scores are [0.62241537 0.65503689]\n",
      "Average Cross Validation score :0.638726131611981\n",
      "AdaBoostRegressor(random_state=42)\n",
      "Cross Validation Scores are [0.72072651 0.67802839]\n",
      "Average Cross Validation score :0.6993774487912376\n",
      "BaggingRegressor(random_state=42)\n",
      "Cross Validation Scores are [0.74228833 0.70248095]\n",
      "Average Cross Validation score :0.7223846427331757\n",
      "RandomForestRegressor(random_state=42)\n"
     ]
    }
   ],
   "source": [
    "from sklearn.model_selection import cross_val_score,StratifiedKFold,KFold\n",
    "\n",
    "   \n",
    "X= X_train\n",
    "Y= y_train\n",
    "kf = KFold(n_splits=2)\n",
    "for train, test in kf.split(X):\n",
    "    print(\"%s %s\" % (train, test))\n",
    "    \n",
    "for maudail in model_list : \n",
    "    score=cross_val_score(maudail,X,Y,cv=kf)\n",
    "    print(\"Cross Validation Scores are {}\".format(score))\n",
    "    print(\"Average Cross Validation score :{}\".format(score.mean()))\n",
    "    print(maudail)"
   ]
  },
  {
   "cell_type": "code",
   "execution_count": 20,
   "metadata": {},
   "outputs": [],
   "source": [
    "grad_reg = GradientBoostingRegressor(random_state=42)"
   ]
  },
  {
   "cell_type": "code",
   "execution_count": 21,
   "metadata": {},
   "outputs": [
    {
     "data": {
      "text/plain": [
       "dict_keys(['alpha', 'ccp_alpha', 'criterion', 'init', 'learning_rate', 'loss', 'max_depth', 'max_features', 'max_leaf_nodes', 'min_impurity_decrease', 'min_impurity_split', 'min_samples_leaf', 'min_samples_split', 'min_weight_fraction_leaf', 'n_estimators', 'n_iter_no_change', 'presort', 'random_state', 'subsample', 'tol', 'validation_fraction', 'verbose', 'warm_start'])"
      ]
     },
     "execution_count": 21,
     "metadata": {},
     "output_type": "execute_result"
    }
   ],
   "source": [
    "grad_reg.get_params().keys()"
   ]
  },
  {
   "cell_type": "code",
   "execution_count": 22,
   "metadata": {},
   "outputs": [],
   "source": [
    "forest_reg = RandomForestRegressor(random_state=42, n_jobs=-1)"
   ]
  },
  {
   "cell_type": "code",
   "execution_count": 23,
   "metadata": {},
   "outputs": [
    {
     "data": {
      "text/plain": [
       "GridSearchCV(cv=5, estimator=RandomForestRegressor(n_jobs=-1, random_state=42),\n",
       "             param_grid=[{'bootstrap': [True], 'max_depth': [80, 90, 100, 110],\n",
       "                          'max_features': ['auto'],\n",
       "                          'min_samples_leaf': [2, 3, 4],\n",
       "                          'min_samples_split': [2, 3, 4],\n",
       "                          'n_estimators': [550, 600, 650]}],\n",
       "             scoring='neg_mean_squared_error')"
      ]
     },
     "execution_count": 23,
     "metadata": {},
     "output_type": "execute_result"
    }
   ],
   "source": [
    "from sklearn.model_selection import GridSearchCV\n",
    "\n",
    "params = [{\"bootstrap\":[True],\n",
    "           \"max_depth\" : [80, 90, 100, 110],\n",
    "           \"max_features\" : [\"auto\"],\n",
    "           \"min_samples_leaf\" : [2, 3, 4],\n",
    "           \"min_samples_split\" : [2, 3, 4],\n",
    "           \"n_estimators\" : [550, 600, 650]\n",
    "}]\n",
    "\n",
    "grid_search = GridSearchCV(forest_reg, params, cv=5,\n",
    "                           scoring='neg_mean_squared_error')\n",
    "grid_search.fit(X_train, y_train)"
   ]
  },
  {
   "cell_type": "code",
   "execution_count": 24,
   "metadata": {},
   "outputs": [
    {
     "data": {
      "text/plain": [
       "{'bootstrap': True,\n",
       " 'max_depth': 90,\n",
       " 'max_features': 'auto',\n",
       " 'min_samples_leaf': 2,\n",
       " 'min_samples_split': 3,\n",
       " 'n_estimators': 600}"
      ]
     },
     "execution_count": 24,
     "metadata": {},
     "output_type": "execute_result"
    }
   ],
   "source": [
    "grid_search.best_params_"
   ]
  },
  {
   "cell_type": "code",
   "execution_count": 25,
   "metadata": {},
   "outputs": [
    {
     "data": {
      "text/plain": [
       "RandomForestRegressor(max_depth=90, min_samples_leaf=2, min_samples_split=3,\n",
       "                      n_estimators=600, n_jobs=-1, random_state=42)"
      ]
     },
     "execution_count": 25,
     "metadata": {},
     "output_type": "execute_result"
    }
   ],
   "source": [
    "grid_search.best_estimator_"
   ]
  },
  {
   "cell_type": "code",
   "execution_count": 26,
   "metadata": {},
   "outputs": [],
   "source": [
    "final_model_energy = grid_search.best_estimator_"
   ]
  },
  {
   "cell_type": "code",
   "execution_count": 27,
   "metadata": {},
   "outputs": [],
   "source": [
    "final_predictions_energy = final_model_energy.predict(X_test)"
   ]
  },
  {
   "cell_type": "code",
   "execution_count": 28,
   "metadata": {},
   "outputs": [
    {
     "name": "stdout",
     "output_type": "stream",
     "text": [
      "MAE:  0.4366\n",
      "MSE:  0.4133\n",
      "RMSE:  0.6428851159238187\n",
      "RMPSE:  0.104\n",
      "MAPE:  7.58539\n",
      "R²:  0.69448\n"
     ]
    }
   ],
   "source": [
    "regression_metrics(np.array(y_test), final_predictions_energy)"
   ]
  },
  {
   "cell_type": "code",
   "execution_count": 29,
   "metadata": {},
   "outputs": [
    {
     "data": {
      "image/png": "[encoded data removed]",
      "text/plain": [
       "<Figure size 576x396 with 2 Axes>"
      ]
     },
     "metadata": {},
     "output_type": "display_data"
    }
   ],
   "source": [
    "visualizer = ResidualsPlot(final_model_energy)\n",
    "visualizer.fit(np.array(X_train), np.array(y_train).reshape(2680,))\n",
    "visualizer.score(np.array(X_test), np.array(y_test).reshape(670,))\n",
    "visualizer.show();"
   ]
  },
  {
   "cell_type": "code",
   "execution_count": 30,
   "metadata": {},
   "outputs": [
    {
     "data": {
      "image/png": "[encoded data removed]",
      "text/plain": [
       "<Figure size 576x396 with 1 Axes>"
      ]
     },
     "metadata": {},
     "output_type": "display_data"
    }
   ],
   "source": [
    "visualizer = prediction_error(final_model_energy, np.array(X_train), np.array(y_train), np.array(X_test), np.array(y_test));\n"
   ]
  },
  {
   "cell_type": "code",
   "execution_count": 31,
   "metadata": {},
   "outputs": [],
   "source": [
    "feature_importance = grid_search.best_estimator_.feature_importances_\n"
   ]
  },
  {
   "cell_type": "code",
   "execution_count": 32,
   "metadata": {},
   "outputs": [],
   "source": [
    "cat_encoder = preprocessor.named_transformers_[\"cat\"]\n",
    "cat_one_hot_attribs = list(cat_encoder[1].categories_)\n",
    "cat_one = list(cat_one_hot_attribs[0])\n",
    "cat_two = list(cat_one_hot_attribs[1])\n",
    "cat_three = list(cat_one_hot_attribs[2])\n",
    "cat_four = list(cat_one_hot_attribs[3])\n",
    "attributes = num_var + cat_one + cat_two + cat_three + cat_four\n",
    "importances = pd.DataFrame(feature_importance.round(4), attributes).reset_index()\n",
    "importances.columns = [\"Features\", \"Features Importances\"]"
   ]
  },
  {
   "cell_type": "code",
   "execution_count": 33,
   "metadata": {},
   "outputs": [
    {
     "data": {
      "text/html": [
       "<div>\n",
       "<style scoped>\n",
       "    .dataframe tbody tr th:only-of-type {\n",
       "        vertical-align: middle;\n",
       "    }\n",
       "\n",
       "    .dataframe tbody tr th {\n",
       "        vertical-align: top;\n",
       "    }\n",
       "\n",
       "    .dataframe thead th {\n",
       "        text-align: right;\n",
       "    }\n",
       "</style>\n",
       "<table border=\"1\" class=\"dataframe\">\n",
       "  <thead>\n",
       "    <tr style=\"text-align: right;\">\n",
       "      <th></th>\n",
       "      <th>Features</th>\n",
       "      <th>Features Importances</th>\n",
       "    </tr>\n",
       "  </thead>\n",
       "  <tbody>\n",
       "    <tr>\n",
       "      <th>70</th>\n",
       "      <td>3</td>\n",
       "      <td>0.7283</td>\n",
       "    </tr>\n",
       "    <tr>\n",
       "      <th>69</th>\n",
       "      <td>2</td>\n",
       "      <td>0.0582</td>\n",
       "    </tr>\n",
       "    <tr>\n",
       "      <th>71</th>\n",
       "      <td>4</td>\n",
       "      <td>0.0370</td>\n",
       "    </tr>\n",
       "    <tr>\n",
       "      <th>6</th>\n",
       "      <td>High-Rise Multifamily</td>\n",
       "      <td>0.0218</td>\n",
       "    </tr>\n",
       "    <tr>\n",
       "      <th>16</th>\n",
       "      <td>Residence Hall</td>\n",
       "      <td>0.0217</td>\n",
       "    </tr>\n",
       "    <tr>\n",
       "      <th>...</th>\n",
       "      <td>...</td>\n",
       "      <td>...</td>\n",
       "    </tr>\n",
       "    <tr>\n",
       "      <th>46</th>\n",
       "      <td>Other</td>\n",
       "      <td>0.0000</td>\n",
       "    </tr>\n",
       "    <tr>\n",
       "      <th>45</th>\n",
       "      <td>Office</td>\n",
       "      <td>0.0000</td>\n",
       "    </tr>\n",
       "    <tr>\n",
       "      <th>42</th>\n",
       "      <td>Multifamily Housing</td>\n",
       "      <td>0.0000</td>\n",
       "    </tr>\n",
       "    <tr>\n",
       "      <th>35</th>\n",
       "      <td>Food Service</td>\n",
       "      <td>0.0000</td>\n",
       "    </tr>\n",
       "    <tr>\n",
       "      <th>44</th>\n",
       "      <td>None</td>\n",
       "      <td>0.0000</td>\n",
       "    </tr>\n",
       "  </tbody>\n",
       "</table>\n",
       "<p>74 rows × 2 columns</p>\n",
       "</div>"
      ],
      "text/plain": [
       "                 Features  Features Importances\n",
       "70                      3                0.7283\n",
       "69                      2                0.0582\n",
       "71                      4                0.0370\n",
       "6   High-Rise Multifamily                0.0218\n",
       "16         Residence Hall                0.0217\n",
       "..                    ...                   ...\n",
       "46                  Other                0.0000\n",
       "45                 Office                0.0000\n",
       "42    Multifamily Housing                0.0000\n",
       "35           Food Service                0.0000\n",
       "44                   None                0.0000\n",
       "\n",
       "[74 rows x 2 columns]"
      ]
     },
     "execution_count": 33,
     "metadata": {},
     "output_type": "execute_result"
    }
   ],
   "source": [
    "importances.sort_values(\"Features Importances\", ascending=False)\n"
   ]
  },
  {
   "cell_type": "code",
   "execution_count": 34,
   "metadata": {},
   "outputs": [
    {
     "data": {
      "text/plain": [
       "array(['Hotel', 'Hotel', 'Hotel', ..., 'Other', 'Mixed Use Property',\n",
       "       'Mixed Use Property'], dtype=object)"
      ]
     },
     "execution_count": 34,
     "metadata": {},
     "output_type": "execute_result"
    }
   ],
   "source": [
    "data[\"PrimaryPropertyType\"].values"
   ]
  },
  {
   "cell_type": "code",
   "execution_count": 35,
   "metadata": {},
   "outputs": [
    {
     "data": {
      "text/plain": [
       "array(['None', 'Parking', 'Parking', ...,\n",
       "       'Fitness Center/Health Club/Gym', 'Fitness Center/Health Club/Gym',\n",
       "       'Fitness Center/Health Club/Gym'], dtype=object)"
      ]
     },
     "execution_count": 35,
     "metadata": {},
     "output_type": "execute_result"
    }
   ],
   "source": [
    "data[\"SecondLargestPropertyUseType\"].values"
   ]
  },
  {
   "cell_type": "code",
   "execution_count": 36,
   "metadata": {},
   "outputs": [],
   "source": [
    "#Pipeline pour estimer la conso d'énergie\n",
    "\n",
    "full_pipeline_energy = Pipeline([\n",
    "    (\"preprocessing\", preprocessor),\n",
    "    (\"model\", final_model_energy)\n",
    "])"
   ]
  },
  {
   "cell_type": "code",
   "execution_count": 37,
   "metadata": {},
   "outputs": [],
   "source": [
    "# Même travail pour estimer l'émission de CO2 (avec prise en compte de l'ESS)\n",
    "\n",
    "train_set, test_set = train_test_split(data, test_size=0.2, random_state=42, stratify=data[\"PrimaryPropertyType\"])\n",
    "\n",
    "y_train = train_set[[\"TotalGHGEmissions_log\"]]\n",
    "y_test = test_set[[\"TotalGHGEmissions_log\"]]\n",
    "X_train = train_set.drop([\"SiteEnergyUse(kBtu)\", \"SiteEnergyUse(kBtu)_log\", \"TotalGHGEmissions\", \"TotalGHGEmissions_log\", \"YearBuilt\", \"Neighborhood\", \"Latitude\", \"Longitude\"], axis=1)\n",
    "X_test = test_set.drop([\"SiteEnergyUse(kBtu)\", \"SiteEnergyUse(kBtu)_log\", \"TotalGHGEmissions\", \"TotalGHGEmissions_log\", \"YearBuilt\",\"Neighborhood\", \"Latitude\", \"Longitude\"], axis=1)"
   ]
  },
  {
   "cell_type": "code",
   "execution_count": 38,
   "metadata": {},
   "outputs": [],
   "source": [
    "cat_pipe = Pipeline([\n",
    "    ('imputer', SimpleImputer(strategy='most_frequent', fill_value='missing')),\n",
    "    ('encoder', OneHotEncoder(handle_unknown='ignore', sparse=False))\n",
    "])\n",
    "\n",
    "num_pipe = Pipeline([\n",
    "    ('imputer', SimpleImputer(strategy=\"median\", fill_value=\"missing\")),\n",
    "    ('scaler', StandardScaler())\n",
    "])\n",
    "\n",
    "preprocessor = ColumnTransformer(\n",
    "    transformers=[\n",
    "    ('cat', cat_pipe, cat_var),\n",
    "    ('num', num_pipe, num_var)\n",
    "])"
   ]
  },
  {
   "cell_type": "code",
   "execution_count": 39,
   "metadata": {},
   "outputs": [],
   "source": [
    "X_train = preprocessor.fit_transform(X_train)"
   ]
  },
  {
   "cell_type": "code",
   "execution_count": 40,
   "metadata": {},
   "outputs": [
    {
     "data": {
      "text/plain": [
       "DummyRegressor(strategy='median')"
      ]
     },
     "execution_count": 40,
     "metadata": {},
     "output_type": "execute_result"
    }
   ],
   "source": [
    "dummy_reg = DummyRegressor(strategy=\"median\")\n",
    "dummy_reg.fit(X_train, y_train)"
   ]
  },
  {
   "cell_type": "code",
   "execution_count": 41,
   "metadata": {},
   "outputs": [
    {
     "name": "stdout",
     "output_type": "stream",
     "text": [
      "MAE:  1.2192\n",
      "MSE:  2.22084\n",
      "RMSE:  1.490247797661441\n",
      "RMPSE:  2.93\n",
      "MAPE:  28.94291\n",
      "R²:  -0.0006\n"
     ]
    }
   ],
   "source": [
    "X_test = preprocessor.transform(X_test)\n",
    "y_pred = dummy_reg.predict(X_test)\n",
    "regression_metrics(np.array(y_test), y_pred)"
   ]
  },
  {
   "cell_type": "code",
   "execution_count": 42,
   "metadata": {},
   "outputs": [
    {
     "data": {
      "text/html": [
       "<div>\n",
       "<style scoped>\n",
       "    .dataframe tbody tr th:only-of-type {\n",
       "        vertical-align: middle;\n",
       "    }\n",
       "\n",
       "    .dataframe tbody tr th {\n",
       "        vertical-align: top;\n",
       "    }\n",
       "\n",
       "    .dataframe thead th {\n",
       "        text-align: right;\n",
       "    }\n",
       "</style>\n",
       "<table border=\"1\" class=\"dataframe\">\n",
       "  <thead>\n",
       "    <tr style=\"text-align: right;\">\n",
       "      <th></th>\n",
       "      <th>Dummy Regressor</th>\n",
       "      <th>Linear Regression</th>\n",
       "      <th>Ridge</th>\n",
       "      <th>Lasso</th>\n",
       "      <th>DecisionTree</th>\n",
       "      <th>SVM</th>\n",
       "      <th>Ridge Kernel</th>\n",
       "      <th>AdaBoost</th>\n",
       "      <th>Bagging</th>\n",
       "      <th>Random Forest</th>\n",
       "    </tr>\n",
       "  </thead>\n",
       "  <tbody>\n",
       "    <tr>\n",
       "      <th>MAE</th>\n",
       "      <td>1.219</td>\n",
       "      <td>7.840863e+08</td>\n",
       "      <td>0.927</td>\n",
       "      <td>1.219</td>\n",
       "      <td>0.991</td>\n",
       "      <td>0.750</td>\n",
       "      <td>0.929</td>\n",
       "      <td>0.950</td>\n",
       "      <td>0.802</td>\n",
       "      <td>0.768</td>\n",
       "    </tr>\n",
       "    <tr>\n",
       "      <th>MSE</th>\n",
       "      <td>2.221</td>\n",
       "      <td>1.373034e+20</td>\n",
       "      <td>1.367</td>\n",
       "      <td>2.220</td>\n",
       "      <td>1.839</td>\n",
       "      <td>1.016</td>\n",
       "      <td>1.369</td>\n",
       "      <td>1.300</td>\n",
       "      <td>1.111</td>\n",
       "      <td>1.023</td>\n",
       "    </tr>\n",
       "    <tr>\n",
       "      <th>RMSE</th>\n",
       "      <td>1.490</td>\n",
       "      <td>1.171765e+10</td>\n",
       "      <td>1.169</td>\n",
       "      <td>1.490</td>\n",
       "      <td>1.356</td>\n",
       "      <td>1.008</td>\n",
       "      <td>1.170</td>\n",
       "      <td>1.140</td>\n",
       "      <td>1.054</td>\n",
       "      <td>1.011</td>\n",
       "    </tr>\n",
       "    <tr>\n",
       "      <th>R²</th>\n",
       "      <td>-0.001</td>\n",
       "      <td>-6.186217e+19</td>\n",
       "      <td>0.384</td>\n",
       "      <td>-0.000</td>\n",
       "      <td>0.172</td>\n",
       "      <td>0.542</td>\n",
       "      <td>0.383</td>\n",
       "      <td>0.414</td>\n",
       "      <td>0.499</td>\n",
       "      <td>0.539</td>\n",
       "    </tr>\n",
       "  </tbody>\n",
       "</table>\n",
       "</div>"
      ],
      "text/plain": [
       "      Dummy Regressor  Linear Regression  Ridge  Lasso  DecisionTree    SVM  \\\n",
       "MAE             1.219       7.840863e+08  0.927  1.219         0.991  0.750   \n",
       "MSE             2.221       1.373034e+20  1.367  2.220         1.839  1.016   \n",
       "RMSE            1.490       1.171765e+10  1.169  1.490         1.356  1.008   \n",
       "R²             -0.001      -6.186217e+19  0.384 -0.000         0.172  0.542   \n",
       "\n",
       "      Ridge Kernel  AdaBoost  Bagging  Random Forest  \n",
       "MAE          0.929     0.950    0.802          0.768  \n",
       "MSE          1.369     1.300    1.111          1.023  \n",
       "RMSE         1.170     1.140    1.054          1.011  \n",
       "R²           0.383     0.414    0.499          0.539  "
      ]
     },
     "execution_count": 42,
     "metadata": {},
     "output_type": "execute_result"
    }
   ],
   "source": [
    "model = [dummy_reg, lin_reg, ridge, lasso, dt_reg, svm_reg, ridge_kernel, adaboost, bagging, rdmforest]\n",
    "dict_model = {}\n",
    "\n",
    "for model in model:\n",
    "    model.fit(X_train, y_train)\n",
    "    y_pred = model.predict(X_test)\n",
    "    mae = mean_absolute_error(y_test, y_pred)\n",
    "    mse = mean_squared_error(y_test, y_pred)\n",
    "    rmse = np.sqrt(mse)\n",
    "    r_score = r2_score(y_test, y_pred, multioutput=\"variance_weighted\").round(3)\n",
    "    dict_model[model] = (mae.round(3), mse.round(3), rmse.round(3), r_score)\n",
    "\n",
    "eval_model = pd.DataFrame(dict_model, index=[\"MAE\", \"MSE\", \"RMSE\", \"R²\"])\n",
    "eval_model.columns = [\"Dummy Regressor\", \"Linear Regression\", \"Ridge\", \"Lasso\", \"DecisionTree\", \"SVM\", \"Ridge Kernel\",\n",
    "                      \"AdaBoost\", \"Bagging\", \"Random Forest\"]\n",
    "\n",
    "eval_model"
   ]
  },
  {
   "cell_type": "code",
   "execution_count": 43,
   "metadata": {},
   "outputs": [
    {
     "data": {
      "text/plain": [
       "GridSearchCV(cv=5, estimator=RandomForestRegressor(n_jobs=-1, random_state=42),\n",
       "             param_grid=[{'bootstrap': [True], 'max_depth': [80, 90, 100, 110],\n",
       "                          'max_features': ['auto'],\n",
       "                          'min_samples_leaf': [2, 3, 4],\n",
       "                          'min_samples_split': [2, 3, 4],\n",
       "                          'n_estimators': [550, 600, 650]}],\n",
       "             scoring='neg_mean_squared_error')"
      ]
     },
     "execution_count": 43,
     "metadata": {},
     "output_type": "execute_result"
    }
   ],
   "source": [
    "params = [{\"bootstrap\":[True],\n",
    "           \"max_depth\" : [80, 90, 100, 110],\n",
    "           \"max_features\" : [\"auto\"],\n",
    "           \"min_samples_leaf\" : [2, 3, 4],\n",
    "           \"min_samples_split\" : [2, 3, 4],\n",
    "           \"n_estimators\" : [550, 600, 650]\n",
    "}]\n",
    "\n",
    "grid_search = GridSearchCV(forest_reg, params, cv=5,\n",
    "                           scoring='neg_mean_squared_error')\n",
    "grid_search.fit(X_train, y_train)"
   ]
  },
  {
   "cell_type": "code",
   "execution_count": 44,
   "metadata": {},
   "outputs": [
    {
     "data": {
      "text/plain": [
       "{'bootstrap': True,\n",
       " 'max_depth': 80,\n",
       " 'max_features': 'auto',\n",
       " 'min_samples_leaf': 4,\n",
       " 'min_samples_split': 2,\n",
       " 'n_estimators': 600}"
      ]
     },
     "execution_count": 44,
     "metadata": {},
     "output_type": "execute_result"
    }
   ],
   "source": [
    "grid_search.best_params_"
   ]
  },
  {
   "cell_type": "code",
   "execution_count": 45,
   "metadata": {},
   "outputs": [
    {
     "data": {
      "text/plain": [
       "RandomForestRegressor(max_depth=80, min_samples_leaf=4, n_estimators=600,\n",
       "                      n_jobs=-1, random_state=42)"
      ]
     },
     "execution_count": 45,
     "metadata": {},
     "output_type": "execute_result"
    }
   ],
   "source": [
    "grid_search.best_estimator_"
   ]
  },
  {
   "cell_type": "code",
   "execution_count": 46,
   "metadata": {},
   "outputs": [],
   "source": [
    "final_model_c02 = grid_search.best_estimator_"
   ]
  },
  {
   "cell_type": "code",
   "execution_count": 47,
   "metadata": {},
   "outputs": [],
   "source": [
    "final_predictions_c02 = final_model_c02.predict(X_test)"
   ]
  },
  {
   "cell_type": "code",
   "execution_count": 48,
   "metadata": {},
   "outputs": [
    {
     "name": "stdout",
     "output_type": "stream",
     "text": [
      "MAE:  0.76211\n",
      "MSE:  1.00564\n",
      "RMSE:  1.0028145880698562\n",
      "RMPSE:  3.07\n",
      "MAPE:  34.24241\n",
      "R²:  0.54691\n"
     ]
    }
   ],
   "source": [
    "regression_metrics(np.array(y_test), final_predictions_c02)"
   ]
  },
  {
   "cell_type": "code",
   "execution_count": 49,
   "metadata": {},
   "outputs": [
    {
     "data": {
      "image/png": "[encoded data removed]",
      "text/plain": [
       "<Figure size 576x396 with 2 Axes>"
      ]
     },
     "metadata": {},
     "output_type": "display_data"
    }
   ],
   "source": [
    "visualizer = ResidualsPlot(final_model_c02)\n",
    "visualizer.fit(np.array(X_train), np.array(y_train).reshape(2680,))\n",
    "visualizer.score(np.array(X_test), np.array(y_test).reshape(670,))\n",
    "visualizer.show();"
   ]
  },
  {
   "cell_type": "code",
   "execution_count": 50,
   "metadata": {},
   "outputs": [
    {
     "data": {
      "image/png": "[encoded data removed]",
      "text/plain": [
       "<Figure size 576x396 with 1 Axes>"
      ]
     },
     "metadata": {},
     "output_type": "display_data"
    }
   ],
   "source": [
    "visualizer = prediction_error(final_model_c02, np.array(X_train), np.array(y_train), np.array(X_test), np.array(y_test));"
   ]
  },
  {
   "cell_type": "code",
   "execution_count": 51,
   "metadata": {},
   "outputs": [],
   "source": [
    "feature_importance = grid_search.best_estimator_.feature_importances_"
   ]
  },
  {
   "cell_type": "code",
   "execution_count": 53,
   "metadata": {},
   "outputs": [],
   "source": [
    "cat_encoder = preprocessor.named_transformers_[\"cat\"]\n",
    "cat_one_hot_attribs = list(cat_encoder[1].categories_)\n",
    "cat_one = list(cat_one_hot_attribs[0])\n",
    "cat_two = list(cat_one_hot_attribs[1])\n",
    "cat_three = list(cat_one_hot_attribs[2])\n",
    "cat_four = list(cat_one_hot_attribs[3])\n",
    "attributes = num_var + cat_one + cat_two + cat_three + cat_four\n",
    "importances = pd.DataFrame(feature_importance.round(4), attributes).reset_index()\n",
    "importances.columns = [\"Features\", \"Features Importances\"]"
   ]
  },
  {
   "cell_type": "code",
   "execution_count": 54,
   "metadata": {},
   "outputs": [
    {
     "data": {
      "text/html": [
       "<div>\n",
       "<style scoped>\n",
       "    .dataframe tbody tr th:only-of-type {\n",
       "        vertical-align: middle;\n",
       "    }\n",
       "\n",
       "    .dataframe tbody tr th {\n",
       "        vertical-align: top;\n",
       "    }\n",
       "\n",
       "    .dataframe thead th {\n",
       "        text-align: right;\n",
       "    }\n",
       "</style>\n",
       "<table border=\"1\" class=\"dataframe\">\n",
       "  <thead>\n",
       "    <tr style=\"text-align: right;\">\n",
       "      <th></th>\n",
       "      <th>Features</th>\n",
       "      <th>Features Importances</th>\n",
       "    </tr>\n",
       "  </thead>\n",
       "  <tbody>\n",
       "    <tr>\n",
       "      <th>70</th>\n",
       "      <td>3</td>\n",
       "      <td>0.5573</td>\n",
       "    </tr>\n",
       "    <tr>\n",
       "      <th>69</th>\n",
       "      <td>2</td>\n",
       "      <td>0.1490</td>\n",
       "    </tr>\n",
       "    <tr>\n",
       "      <th>6</th>\n",
       "      <td>High-Rise Multifamily</td>\n",
       "      <td>0.0733</td>\n",
       "    </tr>\n",
       "    <tr>\n",
       "      <th>71</th>\n",
       "      <td>4</td>\n",
       "      <td>0.0503</td>\n",
       "    </tr>\n",
       "    <tr>\n",
       "      <th>72</th>\n",
       "      <td>No</td>\n",
       "      <td>0.0349</td>\n",
       "    </tr>\n",
       "    <tr>\n",
       "      <th>16</th>\n",
       "      <td>Residence Hall</td>\n",
       "      <td>0.0211</td>\n",
       "    </tr>\n",
       "    <tr>\n",
       "      <th>7</th>\n",
       "      <td>Hospital</td>\n",
       "      <td>0.0123</td>\n",
       "    </tr>\n",
       "    <tr>\n",
       "      <th>9</th>\n",
       "      <td>K-12 School</td>\n",
       "      <td>0.0112</td>\n",
       "    </tr>\n",
       "    <tr>\n",
       "      <th>10</th>\n",
       "      <td>Laboratory</td>\n",
       "      <td>0.0103</td>\n",
       "    </tr>\n",
       "    <tr>\n",
       "      <th>50</th>\n",
       "      <td>Other - Public Services</td>\n",
       "      <td>0.0080</td>\n",
       "    </tr>\n",
       "  </tbody>\n",
       "</table>\n",
       "</div>"
      ],
      "text/plain": [
       "                   Features  Features Importances\n",
       "70                        3                0.5573\n",
       "69                        2                0.1490\n",
       "6     High-Rise Multifamily                0.0733\n",
       "71                        4                0.0503\n",
       "72                       No                0.0349\n",
       "16           Residence Hall                0.0211\n",
       "7                  Hospital                0.0123\n",
       "9               K-12 School                0.0112\n",
       "10               Laboratory                0.0103\n",
       "50  Other - Public Services                0.0080"
      ]
     },
     "execution_count": 54,
     "metadata": {},
     "output_type": "execute_result"
    }
   ],
   "source": [
    "importances.sort_values(\"Features Importances\", ascending=False).head(10)"
   ]
  },
  {
   "cell_type": "code",
   "execution_count": 55,
   "metadata": {},
   "outputs": [],
   "source": [
    "full_pipeline_c02 = Pipeline([\n",
    "    (\"preprocessing\", preprocessor),\n",
    "    (\"model\", final_model_c02)\n",
    "])"
   ]
  },
  {
   "cell_type": "code",
   "execution_count": 56,
   "metadata": {},
   "outputs": [],
   "source": [
    "# Même travail pour estimer l'émission de CO2 (sans prise en compte de l'ESS)"
   ]
  },
  {
   "cell_type": "code",
   "execution_count": 57,
   "metadata": {},
   "outputs": [],
   "source": [
    "train_set, test_set = train_test_split(data, test_size=0.2, random_state=42, stratify=data[\"PrimaryPropertyType\"])\n",
    "\n",
    "y_train = train_set[[\"TotalGHGEmissions_log\"]]\n",
    "y_test = test_set[[\"TotalGHGEmissions_log\"]]\n",
    "X_train = train_set.drop([\"SiteEnergyUse(kBtu)\", \"SiteEnergyUse(kBtu)_log\",\"ENERGYSTARScore\", \"TotalGHGEmissions\", \"TotalGHGEmissions_log\", \"YearBuilt\", \"Neighborhood\", \"Latitude\", \"Longitude\"], axis=1)\n",
    "X_test = test_set.drop([\"SiteEnergyUse(kBtu)\", \"SiteEnergyUse(kBtu)_log\", \"TotalGHGEmissions\",\"ENERGYSTARScore\", \"TotalGHGEmissions_log\", \"YearBuilt\",\"Neighborhood\", \"Latitude\", \"Longitude\"], axis=1)"
   ]
  },
  {
   "cell_type": "code",
   "execution_count": 58,
   "metadata": {},
   "outputs": [],
   "source": [
    "cat_pipe = Pipeline([\n",
    "    ('imputer', SimpleImputer(strategy='most_frequent', fill_value='missing')),\n",
    "    ('encoder', OneHotEncoder(handle_unknown='ignore', sparse=False))\n",
    "])\n",
    "\n",
    "num_pipe = Pipeline([\n",
    "    ('imputer', SimpleImputer(strategy=\"median\", fill_value=\"missing\")),\n",
    "    ('scaler', StandardScaler())\n",
    "])\n",
    "\n",
    "preprocessor = ColumnTransformer(\n",
    "    transformers=[\n",
    "    ('cat', cat_pipe, cat_var),\n",
    "    ('num', num_pipe, num_var)\n",
    "])"
   ]
  },
  {
   "cell_type": "code",
   "execution_count": 59,
   "metadata": {},
   "outputs": [],
   "source": [
    "X_train = preprocessor.fit_transform(X_train)"
   ]
  },
  {
   "cell_type": "code",
   "execution_count": null,
   "metadata": {},
   "outputs": [],
   "source": [
    "mean_absolute_percentage_error = lambda y1, y2 : np.mean(np.abs(y1-y2)/(np.maximum(np.abs(y1), np.abs(y2)))*100)"
   ]
  },
  {
   "cell_type": "code",
   "execution_count": null,
   "metadata": {},
   "outputs": [],
   "source": [
    "def rmpse(y_true, y_pred):\n",
    "    '''\n",
    "    Compute Root Mean Square Percentage Error between two arrays.\n",
    "    '''\n",
    "    loss = np.sqrt(np.mean(np.square(((y_true - y_pred) / y_true))))\n",
    "\n",
    "    return loss"
   ]
  },
  {
   "cell_type": "code",
   "execution_count": null,
   "metadata": {},
   "outputs": [],
   "source": [
    "def regression_metrics(y_test, y_pred):\n",
    "    \"\"\"Function which contains differents metrics about regression\n",
    "    Input: y_test, prediction\n",
    "    \n",
    "    Output: MAE, MSE, RMSE, MAPE & R² score  \n",
    "    \"\"\"\n",
    "    mae = mean_absolute_error(y_test, y_pred)\n",
    "    mse = mean_squared_error(y_test, y_pred)\n",
    "    rmse = np.sqrt(mse)\n",
    "    rmpse_cal = rmpse(y_test, y_pred)\n",
    "    mape = mean_absolute_percentage_error(y_test, y_pred)\n",
    "    r_score = r2_score(y_test, y_pred, multioutput=\"variance_weighted\")\n",
    "    print(\"MAE: \",mae.round(5))\n",
    "    print(\"MSE: \", mse.round(5))\n",
    "    print(\"RMSE: \", rmse)\n",
    "    print(\"RMPSE: \", rmpse_cal.round(3))\n",
    "    print(\"MAPE: \", mape.round(5))\n",
    "    print(\"R²: \", r_score.round(5))"
   ]
  },
  {
   "cell_type": "code",
   "execution_count": null,
   "metadata": {},
   "outputs": [],
   "source": [
    "dummy_reg = DummyRegressor(strategy=\"median\")\n",
    "dummy_reg.fit(X_train, y_train)"
   ]
  },
  {
   "cell_type": "code",
   "execution_count": null,
   "metadata": {},
   "outputs": [],
   "source": [
    "X_test = preprocessor.transform(X_test)\n",
    "y_pred = dummy_reg.predict(X_test)\n",
    "regression_metrics(np.array(y_test), y_pred)"
   ]
  },
  {
   "cell_type": "code",
   "execution_count": null,
   "metadata": {},
   "outputs": [],
   "source": [
    "dummy_reg = DummyRegressor(strategy=\"median\")\n",
    "lin_reg = LinearRegression()\n",
    "ridge = Ridge(random_state=42)\n",
    "lasso = Lasso(random_state=42)\n",
    "dt_reg =  DecisionTreeRegressor(random_state=42)\n",
    "svm_reg = SVR()\n",
    "ridge_kernel = KernelRidge()\n",
    "adaboost = AdaBoostRegressor(random_state=42)\n",
    "bagging = BaggingRegressor(random_state=42)\n",
    "rdmforest = RandomForestRegressor(random_state=42)"
   ]
  },
  {
   "cell_type": "code",
   "execution_count": null,
   "metadata": {},
   "outputs": [],
   "source": [
    "model_list = [dummy_reg, lin_reg, ridge, lasso, dt_reg, svm_reg, ridge_kernel, adaboost, bagging, rdmforest]\n",
    "dict_model = {}\n",
    "\n",
    "for model in model_list:\n",
    "    model.fit(X_train, y_train)\n",
    "    y_pred = model.predict(X_test)\n",
    "    mae = mean_absolute_error(y_test, y_pred)\n",
    "    mse = mean_squared_error(y_test, y_pred)\n",
    "    rmse = np.sqrt(mse)\n",
    "    r_score = r2_score(y_test, y_pred, multioutput=\"variance_weighted\").round(3)\n",
    "    dict_model[model] = (mae.round(3), mse.round(3), rmse.round(3), r_score)\n",
    "\n",
    "eval_model = pd.DataFrame(dict_model, index=[\"MAE\", \"MSE\", \"RMSE\", \"R²\"])\n",
    "eval_model.columns = [\"Dummy Regressor\", \"Linear Regression\", \"Ridge\", \"Lasso\", \"DecisionTree\", \"SVM\", \"Ridge Kernel\",\n",
    "                      \"AdaBoost\", \"Bagging\", \"Random Forest\"]\n",
    "\n",
    "eval_model"
   ]
  },
  {
   "cell_type": "code",
   "execution_count": null,
   "metadata": {},
   "outputs": [],
   "source": [
    "X= X_train\n",
    "Y= y_train\n",
    "kf = KFold(n_splits=2)\n",
    "for train, test in kf.split(X):\n",
    "    print(\"%s %s\" % (train, test))\n",
    "    \n",
    "for maudail in model_list : \n",
    "    score=cross_val_score(maudail,X,Y,cv=kf)\n",
    "    print(\"Cross Validation Scores are {}\".format(score))\n",
    "    print(\"Average Cross Validation score :{}\".format(score.mean()))\n",
    "    print(maudail)"
   ]
  },
  {
   "cell_type": "code",
   "execution_count": null,
   "metadata": {},
   "outputs": [],
   "source": [
    "grad_reg = GradientBoostingRegressor(random_state=42)"
   ]
  },
  {
   "cell_type": "code",
   "execution_count": null,
   "metadata": {},
   "outputs": [],
   "source": [
    "forest_reg = RandomForestRegressor(random_state=42, n_jobs=-1)"
   ]
  },
  {
   "cell_type": "code",
   "execution_count": null,
   "metadata": {},
   "outputs": [],
   "source": [
    "params = [{\"bootstrap\":[True],\n",
    "           \"max_depth\" : [80, 90, 100, 110],\n",
    "           \"max_features\" : [\"auto\"],\n",
    "           \"min_samples_leaf\" : [2, 3, 4],\n",
    "           \"min_samples_split\" : [2, 3, 4],\n",
    "           \"n_estimators\" : [550, 600, 650]\n",
    "}]\n",
    "\n",
    "grid_search = GridSearchCV(forest_reg, params, cv=5,\n",
    "                           scoring='neg_mean_squared_error')\n",
    "grid_search.fit(X_train, y_train)"
   ]
  },
  {
   "cell_type": "code",
   "execution_count": null,
   "metadata": {},
   "outputs": [],
   "source": [
    "grid_search.best_params_"
   ]
  },
  {
   "cell_type": "code",
   "execution_count": null,
   "metadata": {},
   "outputs": [],
   "source": [
    "grid_search.best_estimator_"
   ]
  },
  {
   "cell_type": "code",
   "execution_count": null,
   "metadata": {},
   "outputs": [],
   "source": [
    "final_model_c02noESS = grid_search.best_estimator_"
   ]
  },
  {
   "cell_type": "code",
   "execution_count": null,
   "metadata": {},
   "outputs": [],
   "source": [
    "final_predictions_c02noESS = final_model_c02noESS.predict(X_test)"
   ]
  },
  {
   "cell_type": "code",
   "execution_count": null,
   "metadata": {},
   "outputs": [],
   "source": [
    "regression_metrics(np.array(y_test), final_predictions_c02noESS)"
   ]
  },
  {
   "cell_type": "code",
   "execution_count": null,
   "metadata": {},
   "outputs": [],
   "source": [
    "visualizer = ResidualsPlot(final_model_c02noESS)\n",
    "visualizer.fit(np.array(X_train), np.array(y_train).reshape(2680,))\n",
    "visualizer.score(np.array(X_test), np.array(y_test).reshape(670,))\n",
    "visualizer.show();"
   ]
  },
  {
   "cell_type": "code",
   "execution_count": null,
   "metadata": {},
   "outputs": [],
   "source": [
    "visualizer = prediction_error(final_model_c02noESS, np.array(X_train), np.array(y_train), np.array(X_test), np.array(y_test));\n"
   ]
  },
  {
   "cell_type": "code",
   "execution_count": null,
   "metadata": {},
   "outputs": [],
   "source": [
    "feature_importance = grid_search.best_estimator_.feature_importances_\n"
   ]
  },
  {
   "cell_type": "code",
   "execution_count": null,
   "metadata": {},
   "outputs": [],
   "source": [
    "cat_encoder = preprocessor.named_transformers_[\"cat\"]\n",
    "cat_one_hot_attribs = list(cat_encoder[1].categories_)\n",
    "cat_one = list(cat_one_hot_attribs[0])\n",
    "cat_two = list(cat_one_hot_attribs[1])\n",
    "cat_three = list(cat_one_hot_attribs[2])\n",
    "cat_four = list(cat_one_hot_attribs[3])\n",
    "attributes = num_var + cat_one + cat_two + cat_three + cat_four\n",
    "importances = pd.DataFrame(feature_importance.round(4), attributes).reset_index()\n",
    "importances.columns = [\"Features\", \"Features Importances\"]"
   ]
  },
  {
   "cell_type": "code",
   "execution_count": null,
   "metadata": {},
   "outputs": [],
   "source": [
    "importances.sort_values(\"Features Importances\", ascending=False)"
   ]
  },
  {
   "cell_type": "code",
   "execution_count": null,
   "metadata": {},
   "outputs": [],
   "source": [
    "full_pipeline_c02noESS = Pipeline([\n",
    "    (\"preprocessing\", preprocessor),\n",
    "    (\"model\", final_model_c02noESS)\n",
    "])"
   ]
  },
  {
   "cell_type": "code",
   "execution_count": null,
   "metadata": {},
   "outputs": [],
   "source": []
  },
  {
   "cell_type": "code",
   "execution_count": null,
   "metadata": {},
   "outputs": [],
   "source": []
  }
 ],
 "metadata": {
  "kernelspec": {
   "display_name": "Python 3",
   "language": "python",
   "name": "python3"
  },
  "language_info": {
   "codemirror_mode": {
    "name": "ipython",
    "version": 3
   },
   "file_extension": ".py",
   "mimetype": "text/x-python",
   "name": "python",
   "nbconvert_exporter": "python",
   "pygments_lexer": "ipython3",
   "version": "3.8.5"
  },
  "varInspector": {
   "cols": {
    "lenName": 16,
    "lenType": 16,
    "lenVar": 40
   },
   "kernels_config": {
    "python": {
     "delete_cmd_postfix": "",
     "delete_cmd_prefix": "del ",
     "library": "var_list.py",
     "varRefreshCmd": "print(var_dic_list())"
    },
    "r": {
     "delete_cmd_postfix": ") ",
     "delete_cmd_prefix": "rm(",
     "library": "var_list.r",
     "varRefreshCmd": "cat(var_dic_list()) "
    }
   },
   "types_to_exclude": [
    "module",
    "function",
    "builtin_function_or_method",
    "instance",
    "_Feature"
   ],
   "window_display": false
  }
 },
 "nbformat": 4,
 "nbformat_minor": 4
}
